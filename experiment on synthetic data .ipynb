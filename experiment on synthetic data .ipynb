{
 "cells": [
  {
   "cell_type": "code",
   "execution_count": 1,
   "metadata": {},
   "outputs": [],
   "source": [
    "# experiment on synthetic data "
   ]
  },
  {
   "cell_type": "code",
   "execution_count": 2,
   "metadata": {},
   "outputs": [],
   "source": [
    "# No treatment effect\n",
    "# size of treatment < < size of control \n",
    "# size of treatment ≈ size of control \n",
    "# different distribution of treatment / control \n",
    "# same dis of treatment / control "
   ]
  },
  {
   "cell_type": "code",
   "execution_count": 3,
   "metadata": {},
   "outputs": [],
   "source": [
    "import pandas as pd\n",
    "import numpy as np\n",
    "from sklearn.preprocessing import StandardScaler, PolynomialFeatures\n",
    "from sklearn.linear_model import LinearRegression, LogisticRegression\n",
    "from sklearn.tree import DecisionTreeRegressor\n",
    "from sklearn.ensemble import RandomForestClassifier, RandomForestRegressor\n",
    "from scipy.stats import norm, sem\n",
    "from scipy.interpolate import UnivariateSpline\n",
    "from sklearn.calibration import calibration_curve\n",
    "import matplotlib.pyplot as plt\n",
    "import seaborn as sns\n",
    "from scipy.stats.stats import pearsonr\n",
    "from numpy.random import default_rng\n",
    "import random\n",
    "pd.set_option('display.max_columns', 100)\n",
    "from resample import * \n",
    "from metalearner import * "
   ]
  },
  {
   "cell_type": "markdown",
   "metadata": {},
   "source": [
    "####  Extension: For get_data_with_same_distribution , we always generate one dimensional feature x ∈ (0,1), for w = 0, y = x + 1. for w = 1, y = x + 2. So the ite and ate are both 1. In addition,  # treatment sample = # control sample"
   ]
  },
  {
   "cell_type": "code",
   "execution_count": 4,
   "metadata": {},
   "outputs": [],
   "source": [
    "syn_data_class = resample_from_synthetic_data(n_sample= 1000000)\n",
    "d = syn_data_class.get_data_with_same_distribution(ratio = 0.5)"
   ]
  },
  {
   "cell_type": "code",
   "execution_count": 5,
   "metadata": {},
   "outputs": [],
   "source": [
    "s_learner = Slearner(baselearner=LinearRegression(), is_regressor=True)\n",
    "s_learner.fit(X = np.array(d['X']).reshape(len(d['X']),1), treatment = np.array(d['W']), \n",
    "              y =  np.array(d['Y']))"
   ]
  },
  {
   "cell_type": "code",
   "execution_count": 6,
   "metadata": {},
   "outputs": [],
   "source": [
    "ite, yhat_ts, yhat_cs, rmse = s_learner.get_ite(X =np.array(d['X']).reshape(len(d['X']),1), treatment = d['W'], y =  d['Y'])"
   ]
  },
  {
   "cell_type": "code",
   "execution_count": 7,
   "metadata": {},
   "outputs": [
    {
     "name": "stdout",
     "output_type": "stream",
     "text": [
      "ATE for S learner:  0.9999999999999966\n"
     ]
    }
   ],
   "source": [
    "print('ATE for S learner: ', np.mean(ite))"
   ]
  },
  {
   "cell_type": "code",
   "execution_count": 8,
   "metadata": {},
   "outputs": [],
   "source": [
    "t_learner = Tlearner(LinearRegression(),LinearRegression(), is_regressor= True)\n",
    "t_learner.fit(X = np.array(d['X']).reshape(-1,1), treatment = np.array(d['W']), \n",
    "              y =  np.array(d['Y']))"
   ]
  },
  {
   "cell_type": "code",
   "execution_count": 9,
   "metadata": {},
   "outputs": [],
   "source": [
    "ite, yhat_ts, yhat_cs, rmse = t_learner.get_ite(X = np.array(d['X']).reshape(-1,1), treatment = d['W'], y =  d['Y'])"
   ]
  },
  {
   "cell_type": "code",
   "execution_count": 10,
   "metadata": {},
   "outputs": [
    {
     "name": "stdout",
     "output_type": "stream",
     "text": [
      "ATE for T learner:  1.0000000000000002\n"
     ]
    }
   ],
   "source": [
    "print('ATE for T learner: ', np.mean(ite))"
   ]
  },
  {
   "cell_type": "code",
   "execution_count": 11,
   "metadata": {},
   "outputs": [],
   "source": [
    "x_learner = Xlearner(LinearRegression(),\n",
    "                     propensity_model = LogisticRegression(),\n",
    "                    is_regressor= True)\n",
    "x_learner.fit(X = np.array(d['X']).reshape(-1,1), treatment = np.array(d['W']), \n",
    "              y =  np.array(d['Y']))"
   ]
  },
  {
   "cell_type": "code",
   "execution_count": 12,
   "metadata": {},
   "outputs": [],
   "source": [
    "ite, yhat_ts, yhat_cs, rmse = x_learner.get_ite(X = np.array(d['X']).reshape(-1,1), treatment = d['W'], y =  d['Y'])"
   ]
  },
  {
   "cell_type": "code",
   "execution_count": 13,
   "metadata": {},
   "outputs": [
    {
     "name": "stdout",
     "output_type": "stream",
     "text": [
      "ATE for X learner:  1.0\n"
     ]
    }
   ],
   "source": [
    "print('ATE for X learner: ', np.mean(ite))"
   ]
  },
  {
   "cell_type": "markdown",
   "metadata": {},
   "source": [
    "We can draw conclusion from above result that when control and treatment groups are from the same simple distribution \n",
    "and when the data sizes are equal, the three metalearners perform equally well. "
   ]
  },
  {
   "cell_type": "markdown",
   "metadata": {},
   "source": [
    "#### Paper claims:  X-learner performs particularly well when the treatment group sizes are very unbalanced"
   ]
  },
  {
   "cell_type": "code",
   "execution_count": 35,
   "metadata": {},
   "outputs": [],
   "source": [
    "syn_data_class = resample_from_synthetic_data(n_sample= 1000000)\n",
    "d = syn_data_class.get_data_with_same_distribution(ratio = 0.01)"
   ]
  },
  {
   "cell_type": "code",
   "execution_count": 36,
   "metadata": {},
   "outputs": [],
   "source": [
    "d_test = syn_data_class.get_data_with_same_distribution(ratio = 0.01)"
   ]
  },
  {
   "cell_type": "code",
   "execution_count": 37,
   "metadata": {},
   "outputs": [
    {
     "data": {
      "text/html": [
       "<div>\n",
       "<style scoped>\n",
       "    .dataframe tbody tr th:only-of-type {\n",
       "        vertical-align: middle;\n",
       "    }\n",
       "\n",
       "    .dataframe tbody tr th {\n",
       "        vertical-align: top;\n",
       "    }\n",
       "\n",
       "    .dataframe thead th {\n",
       "        text-align: right;\n",
       "    }\n",
       "</style>\n",
       "<table border=\"1\" class=\"dataframe\">\n",
       "  <thead>\n",
       "    <tr style=\"text-align: right;\">\n",
       "      <th></th>\n",
       "      <th>W</th>\n",
       "      <th>Y0</th>\n",
       "      <th>Y1</th>\n",
       "      <th>X</th>\n",
       "      <th>Y</th>\n",
       "    </tr>\n",
       "  </thead>\n",
       "  <tbody>\n",
       "    <tr>\n",
       "      <th>990000</th>\n",
       "      <td>1</td>\n",
       "      <td>1.139203</td>\n",
       "      <td>2.139203</td>\n",
       "      <td>0.139203</td>\n",
       "      <td>2.139203</td>\n",
       "    </tr>\n",
       "    <tr>\n",
       "      <th>990001</th>\n",
       "      <td>1</td>\n",
       "      <td>1.540330</td>\n",
       "      <td>2.540330</td>\n",
       "      <td>0.540330</td>\n",
       "      <td>2.540330</td>\n",
       "    </tr>\n",
       "    <tr>\n",
       "      <th>990002</th>\n",
       "      <td>1</td>\n",
       "      <td>1.360063</td>\n",
       "      <td>2.360063</td>\n",
       "      <td>0.360063</td>\n",
       "      <td>2.360063</td>\n",
       "    </tr>\n",
       "    <tr>\n",
       "      <th>990003</th>\n",
       "      <td>1</td>\n",
       "      <td>1.323327</td>\n",
       "      <td>2.323327</td>\n",
       "      <td>0.323327</td>\n",
       "      <td>2.323327</td>\n",
       "    </tr>\n",
       "    <tr>\n",
       "      <th>990004</th>\n",
       "      <td>1</td>\n",
       "      <td>1.831549</td>\n",
       "      <td>2.831549</td>\n",
       "      <td>0.831549</td>\n",
       "      <td>2.831549</td>\n",
       "    </tr>\n",
       "    <tr>\n",
       "      <th>...</th>\n",
       "      <td>...</td>\n",
       "      <td>...</td>\n",
       "      <td>...</td>\n",
       "      <td>...</td>\n",
       "      <td>...</td>\n",
       "    </tr>\n",
       "    <tr>\n",
       "      <th>999995</th>\n",
       "      <td>1</td>\n",
       "      <td>1.812929</td>\n",
       "      <td>2.812929</td>\n",
       "      <td>0.812929</td>\n",
       "      <td>2.812929</td>\n",
       "    </tr>\n",
       "    <tr>\n",
       "      <th>999996</th>\n",
       "      <td>1</td>\n",
       "      <td>1.491826</td>\n",
       "      <td>2.491826</td>\n",
       "      <td>0.491826</td>\n",
       "      <td>2.491826</td>\n",
       "    </tr>\n",
       "    <tr>\n",
       "      <th>999997</th>\n",
       "      <td>1</td>\n",
       "      <td>1.701604</td>\n",
       "      <td>2.701604</td>\n",
       "      <td>0.701604</td>\n",
       "      <td>2.701604</td>\n",
       "    </tr>\n",
       "    <tr>\n",
       "      <th>999998</th>\n",
       "      <td>1</td>\n",
       "      <td>1.589628</td>\n",
       "      <td>2.589628</td>\n",
       "      <td>0.589628</td>\n",
       "      <td>2.589628</td>\n",
       "    </tr>\n",
       "    <tr>\n",
       "      <th>999999</th>\n",
       "      <td>1</td>\n",
       "      <td>1.536729</td>\n",
       "      <td>2.536729</td>\n",
       "      <td>0.536729</td>\n",
       "      <td>2.536729</td>\n",
       "    </tr>\n",
       "  </tbody>\n",
       "</table>\n",
       "<p>10000 rows × 5 columns</p>\n",
       "</div>"
      ],
      "text/plain": [
       "        W        Y0        Y1         X         Y\n",
       "990000  1  1.139203  2.139203  0.139203  2.139203\n",
       "990001  1  1.540330  2.540330  0.540330  2.540330\n",
       "990002  1  1.360063  2.360063  0.360063  2.360063\n",
       "990003  1  1.323327  2.323327  0.323327  2.323327\n",
       "990004  1  1.831549  2.831549  0.831549  2.831549\n",
       "...    ..       ...       ...       ...       ...\n",
       "999995  1  1.812929  2.812929  0.812929  2.812929\n",
       "999996  1  1.491826  2.491826  0.491826  2.491826\n",
       "999997  1  1.701604  2.701604  0.701604  2.701604\n",
       "999998  1  1.589628  2.589628  0.589628  2.589628\n",
       "999999  1  1.536729  2.536729  0.536729  2.536729\n",
       "\n",
       "[10000 rows x 5 columns]"
      ]
     },
     "execution_count": 37,
     "metadata": {},
     "output_type": "execute_result"
    }
   ],
   "source": [
    "d[d['W'] == 1] "
   ]
  },
  {
   "cell_type": "code",
   "execution_count": 38,
   "metadata": {},
   "outputs": [
    {
     "name": "stdout",
     "output_type": "stream",
     "text": [
      "ATE for S learner:  1.0\n"
     ]
    }
   ],
   "source": [
    "s_learner = Slearner(baselearner=LinearRegression(), is_regressor=True)\n",
    "s_learner.fit(X = np.array(d['X']).reshape(len(d['X']),1), treatment = np.array(d['W']), \n",
    "              y =  np.array(d['Y']))\n",
    "ite, yhat_ts, yhat_cs, rmse = s_learner.get_ite(X =np.array(d_test['X']).reshape(len(d_test['X']),1), treatment = d_test['W'], y =  d['Y'])\n",
    "print('ATE for S learner: ', np.mean(ite))"
   ]
  },
  {
   "cell_type": "code",
   "execution_count": 39,
   "metadata": {},
   "outputs": [
    {
     "name": "stdout",
     "output_type": "stream",
     "text": [
      "ATE for T learner:  1.0\n"
     ]
    }
   ],
   "source": [
    "t_learner = Tlearner(LinearRegression(),LinearRegression(), is_regressor= True)\n",
    "t_learner.fit(X = np.array(d['X']).reshape(-1,1), treatment = np.array(d['W']), \n",
    "              y =  np.array(d['Y']))\n",
    "\n",
    "ite, yhat_ts, yhat_cs, rmse = t_learner.get_ite(X = np.array(d_test['X']).reshape(-1,1), treatment = d_test['W'], y =  d_test['Y'])\n",
    "\n",
    "print('ATE for T learner: ', np.mean(ite))"
   ]
  },
  {
   "cell_type": "code",
   "execution_count": 40,
   "metadata": {},
   "outputs": [
    {
     "name": "stdout",
     "output_type": "stream",
     "text": [
      "ATE for X learner:  1.0000000000000002\n"
     ]
    }
   ],
   "source": [
    "x_learner = Xlearner(LinearRegression(),\n",
    "                     propensity_model = LogisticRegression(),\n",
    "                    is_regressor= True)\n",
    "x_learner.fit(X = np.array(d['X']).reshape(-1,1), treatment = np.array(d['W']), \n",
    "              y =  np.array(d['Y']))\n",
    "ite, yhat_ts, yhat_cs, rmse = x_learner.get_ite(X = np.array(d_test['X']).reshape(-1,1), treatment = d_test['W'], y =  d_test['Y'])\n",
    "\n",
    "print('ATE for X learner: ', np.mean(ite))"
   ]
  },
  {
   "cell_type": "markdown",
   "metadata": {},
   "source": [
    "All three metalearners perform well "
   ]
  },
  {
   "cell_type": "markdown",
   "metadata": {},
   "source": [
    "#### Paper claims:  X-learner performs well for two extreme cases where: 1. CATE functions are very complex and 2. treatmnent effect is 0 "
   ]
  },
  {
   "cell_type": "markdown",
   "metadata": {},
   "source": [
    "#####  complex function w = 1 "
   ]
  },
  {
   "cell_type": "code",
   "execution_count": 20,
   "metadata": {},
   "outputs": [],
   "source": [
    "# complex CATE function (i.e.: when w= 1, true distribution is quite complex)\n",
    "\n",
    "syn_data_class = resample_from_synthetic_data(n_sample= 1000)\n",
    "d = syn_data_class.get_data_with_diff_distribution(ratio = 0.1)\n",
    "d_test = syn_data_class.get_data_with_diff_distribution(ratio = 0.1)"
   ]
  },
  {
   "cell_type": "code",
   "execution_count": 21,
   "metadata": {},
   "outputs": [
    {
     "name": "stdout",
     "output_type": "stream",
     "text": [
      "True ate for this data is:  1.7322758574140962\n"
     ]
    }
   ],
   "source": [
    "# For every x, true ite is 3 + np.abs(x*x*x - x) - (x+1) = 2 - x + np.abs(x*x*x - x)\n",
    "# calculate true ate first \n",
    "true_ite = [2 - x + np.abs(x*x*x - x) for x in d_test['X']]\n",
    "true_ate = np.mean(true_ite)\n",
    "print('True ate for this data is: ', true_ate)"
   ]
  },
  {
   "cell_type": "code",
   "execution_count": 22,
   "metadata": {},
   "outputs": [
    {
     "name": "stdout",
     "output_type": "stream",
     "text": [
      "ATE for S learner:  1.7353553289558623\n"
     ]
    }
   ],
   "source": [
    "s_learner = Slearner(baselearner=LinearRegression(), is_regressor=True)\n",
    "s_learner.fit(X = np.array(d['X']).reshape(len(d['X']),1), treatment = np.array(d['W']), \n",
    "              y =  np.array(d['Y']))\n",
    "ite, yhat_ts, yhat_cs, rmse = s_learner.get_ite(X =np.array(d_test['X']).reshape(len(d_test['X']),1), treatment = d_test['W'], y =  d['Y'])\n",
    "print('ATE for S learner: ', np.mean(ite))"
   ]
  },
  {
   "cell_type": "code",
   "execution_count": 23,
   "metadata": {},
   "outputs": [
    {
     "name": "stdout",
     "output_type": "stream",
     "text": [
      "ATE for T learner:  1.715321689046918\n"
     ]
    }
   ],
   "source": [
    "t_learner = Tlearner(LinearRegression(),LinearRegression(), is_regressor= True)\n",
    "t_learner.fit(X = np.array(d['X']).reshape(-1,1), treatment = np.array(d['W']), \n",
    "              y =  np.array(d['Y']))\n",
    "\n",
    "ite, yhat_ts, yhat_cs, rmse = t_learner.get_ite(X = np.array(d_test['X']).reshape(-1,1), treatment = d_test['W'], y =  d_test['Y'])\n",
    "\n",
    "print('ATE for T learner: ', np.mean(ite))"
   ]
  },
  {
   "cell_type": "code",
   "execution_count": 24,
   "metadata": {},
   "outputs": [
    {
     "name": "stdout",
     "output_type": "stream",
     "text": [
      "ATE for X learner:  1.7153216890469185\n"
     ]
    }
   ],
   "source": [
    "x_learner = Xlearner(LinearRegression(),\n",
    "                     propensity_model = LogisticRegression(),\n",
    "                    is_regressor= True)\n",
    "x_learner.fit(X = np.array(d['X']).reshape(-1,1), treatment = np.array(d['W']), \n",
    "              y =  np.array(d['Y']))\n",
    "ite, yhat_ts, yhat_cs, rmse = x_learner.get_ite(X = np.array(d_test['X']).reshape(-1,1), treatment = d_test['W'], y =  d_test['Y'])\n",
    "\n",
    "print('ATE for X learner: ', np.mean(ite))"
   ]
  },
  {
   "cell_type": "markdown",
   "metadata": {},
   "source": [
    "##### treatment effect = 0 "
   ]
  },
  {
   "cell_type": "code",
   "execution_count": 30,
   "metadata": {},
   "outputs": [],
   "source": [
    "syn_data_class = resample_from_synthetic_data(n_sample= 1000)\n",
    "d = syn_data_class.get_data_with_zero_treatment_effect(ratio = 0.5)\n",
    "d_test = syn_data_class.get_data_with_zero_treatment_effect(ratio = 0.5)"
   ]
  },
  {
   "cell_type": "code",
   "execution_count": 31,
   "metadata": {},
   "outputs": [
    {
     "name": "stdout",
     "output_type": "stream",
     "text": [
      "ATE for S learner:  -8.881784197001253e-19\n"
     ]
    }
   ],
   "source": [
    "s_learner = Slearner(baselearner=LinearRegression(), is_regressor=True)\n",
    "s_learner.fit(X = np.array(d['X']).reshape(len(d['X']),1), treatment = np.array(d['W']), \n",
    "              y =  np.array(d['Y']))\n",
    "ite, yhat_ts, yhat_cs, rmse = s_learner.get_ite(X =np.array(d_test['X']).reshape(len(d_test['X']),1), treatment = d_test['W'], y =  d['Y'])\n",
    "print('ATE for S learner: ', np.mean(ite))"
   ]
  },
  {
   "cell_type": "code",
   "execution_count": 32,
   "metadata": {},
   "outputs": [
    {
     "name": "stdout",
     "output_type": "stream",
     "text": [
      "ATE for T learner:  -8.526512829121202e-17\n"
     ]
    }
   ],
   "source": [
    "t_learner = Tlearner(LinearRegression(),LinearRegression(), is_regressor= True)\n",
    "t_learner.fit(X = np.array(d['X']).reshape(-1,1), treatment = np.array(d['W']), \n",
    "              y =  np.array(d['Y']))\n",
    "\n",
    "ite, yhat_ts, yhat_cs, rmse = t_learner.get_ite(X = np.array(d_test['X']).reshape(-1,1), treatment = d_test['W'], y =  d_test['Y'])\n",
    "\n",
    "print('ATE for T learner: ', np.mean(ite))"
   ]
  },
  {
   "cell_type": "code",
   "execution_count": 33,
   "metadata": {},
   "outputs": [
    {
     "name": "stdout",
     "output_type": "stream",
     "text": [
      "ATE for X learner:  -4.234797938131524e-17\n"
     ]
    }
   ],
   "source": [
    "x_learner = Xlearner(LinearRegression(),\n",
    "                     propensity_model = LogisticRegression(),\n",
    "                    is_regressor= True)\n",
    "x_learner.fit(X = np.array(d['X']).reshape(-1,1), treatment = np.array(d['W']), \n",
    "              y =  np.array(d['Y']))\n",
    "ite, yhat_ts, yhat_cs, rmse = x_learner.get_ite(X = np.array(d_test['X']).reshape(-1,1), treatment = d_test['W'], y =  d_test['Y'])\n",
    "\n",
    "print('ATE for X learner: ', np.mean(ite))"
   ]
  },
  {
   "cell_type": "markdown",
   "metadata": {},
   "source": [
    "Conclusion: X-learner performs well on both tasks, but T and S learners perform very well too. "
   ]
  }
 ],
 "metadata": {
  "kernelspec": {
   "display_name": "Python 3",
   "language": "python",
   "name": "python3"
  },
  "language_info": {
   "codemirror_mode": {
    "name": "ipython",
    "version": 3
   },
   "file_extension": ".py",
   "mimetype": "text/x-python",
   "name": "python",
   "nbconvert_exporter": "python",
   "pygments_lexer": "ipython3",
   "version": "3.8.3"
  }
 },
 "nbformat": 4,
 "nbformat_minor": 4
}

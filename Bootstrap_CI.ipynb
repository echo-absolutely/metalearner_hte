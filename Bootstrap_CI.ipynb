{
 "cells": [
  {
   "cell_type": "code",
   "execution_count": 1,
   "metadata": {
    "ExecuteTime": {
     "end_time": "2021-05-14T13:11:13.786608Z",
     "start_time": "2021-05-14T13:11:13.784056Z"
    }
   },
   "outputs": [],
   "source": [
    "# read data\n",
    "# build T-learner \n",
    "# impute values using T-learner as ground truth \n",
    "# run bootstrap ci"
   ]
  },
  {
   "cell_type": "markdown",
   "metadata": {},
   "source": [
    "### End goal: compare standard CI vs bca CI"
   ]
  },
  {
   "cell_type": "code",
   "execution_count": 2,
   "metadata": {
    "ExecuteTime": {
     "end_time": "2021-05-14T13:11:15.829871Z",
     "start_time": "2021-05-14T13:11:14.118226Z"
    }
   },
   "outputs": [],
   "source": [
    "import pandas as pd\n",
    "import numpy as np\n",
    "from sklearn.preprocessing import StandardScaler, PolynomialFeatures\n",
    "from sklearn.linear_model import LinearRegression, LogisticRegression\n",
    "from sklearn.tree import DecisionTreeRegressor\n",
    "from sklearn.ensemble import RandomForestClassifier, RandomForestRegressor\n",
    "from scipy.stats import norm, sem\n",
    "from scipy.interpolate import UnivariateSpline\n",
    "from sklearn.calibration import calibration_curve\n",
    "import matplotlib.pyplot as plt\n",
    "import seaborn as sns\n",
    "from scipy.stats.stats import pearsonr\n",
    "from numpy.random import default_rng\n",
    "import random\n",
    "pd.set_option('display.max_columns', 100)"
   ]
  },
  {
   "cell_type": "code",
   "execution_count": 3,
   "metadata": {
    "ExecuteTime": {
     "end_time": "2021-05-14T13:11:16.382864Z",
     "start_time": "2021-05-14T13:11:15.846772Z"
    }
   },
   "outputs": [],
   "source": [
    "df = pd.read_csv('GerberGreenLarimer_APSR_2008_social_pressure.csv')\n",
    "df = df[df['treatment'].isin([' Control',' Neighbors'])]"
   ]
  },
  {
   "cell_type": "code",
   "execution_count": 4,
   "metadata": {
    "ExecuteTime": {
     "end_time": "2021-05-14T13:11:16.584898Z",
     "start_time": "2021-05-14T13:11:16.412400Z"
    }
   },
   "outputs": [],
   "source": [
    "# df = pd.read_csv('GerberGreenLarimer_APSR_2008_social_pressure.csv')\n",
    "df['treatment'] = np.where(df.treatment == ' Control',0,1)\n",
    "df['voted'] = np.where(df.voted == 'Yes', 1, 0)\n",
    "df['sex'] = np.where(df.sex == 'male',1, 0)\n",
    "df['g2000'] = np.where(df.g2000 == 'yes', 1, 0)\n",
    "df['g2002'] = np.where(df.g2002 == 'yes', 1, 0)\n",
    "df['g2004'] = np.where(df.g2004 == 'yes', 1, 0)\n",
    "df['p2000'] = np.where(df.p2000 == 'yes', 1, 0)\n",
    "df['p2002'] = np.where(df.p2002 == 'yes', 1, 0)\n",
    "df['p2004'] = np.where(df.p2004 == 'Yes', 1, 0)"
   ]
  },
  {
   "cell_type": "code",
   "execution_count": 5,
   "metadata": {
    "ExecuteTime": {
     "end_time": "2021-05-14T13:11:16.732286Z",
     "start_time": "2021-05-14T13:11:16.610334Z"
    }
   },
   "outputs": [],
   "source": [
    "cts_variables_names = [\"yob\",\"treatment\",\"cluster\",\"hh_id\",\"hh_size\",\"numberofnames\",\"p2004_mean\",\"g2004_mean\"]\n",
    "binary_variables_names = [\"sex\",\"g2000\", \"g2002\", \"p2000\", \"p2002\", \"p2004\"]\n",
    "# for column in binary_variables_names:\n",
    "#     if column == 'sex':\n",
    "#         df[column] = np.where(df[column] == ' male',1,0)\n",
    "#     else:\n",
    "#         df[column] = df[column].str.lower()\n",
    "#         df[column] = np.where(df[column] == ' yes',1,0)\n",
    "scaled_cts_covariates = StandardScaler().fit_transform(df[cts_variables_names])\n",
    "binary_covariates = df[binary_variables_names]\n",
    "d = pd.DataFrame(np.concatenate((scaled_cts_covariates, binary_covariates), axis=1), \n",
    "                        columns=cts_variables_names+binary_variables_names, index=df.index)\n",
    "d[\"W\"] = df[\"treatment\"]\n",
    "d[\"Y\"] = df[\"voted\"]\n"
   ]
  },
  {
   "cell_type": "code",
   "execution_count": 6,
   "metadata": {
    "ExecuteTime": {
     "end_time": "2021-05-14T13:11:16.783776Z",
     "start_time": "2021-05-14T13:11:16.781054Z"
    }
   },
   "outputs": [],
   "source": [
    "# df = pd.read_csv('sp.csv.xz')\n",
    "# cts_variables_names = [\"yob\", \"hh_size\", \"totalpopulation_estimate\",\n",
    "#                          \"percent_male\", \"median_age\",\n",
    "#                          \"percent_62yearsandover\",\n",
    "#                          \"percent_white\", \"percent_black\",\n",
    "#                          \"percent_asian\", \"median_income\",\n",
    "#                          \"employ_20to64\", \"highschool\", \"bach_orhigher\",\n",
    "#                          \"percent_hispanicorlatino\"]\n",
    "# binary_variables_names = [\"sex\",\"g2000\", \"g2002\", \"p2000\", \"p2002\", \"p2004\"]\n",
    "# scaled_cts_covariates = StandardScaler().fit_transform(df[cts_variables_names])\n",
    "# binary_covariates = df[binary_variables_names]\n",
    "# d = pd.DataFrame(np.concatenate((scaled_cts_covariates, binary_covariates), axis=1), \n",
    "#                         columns=cts_variables_names+binary_variables_names, index=df.index)\n",
    "# d[\"W\"] = df[\"treat_neighbors\"]\n",
    "# d[\"Y\"] = df[\"outcome_voted\"]"
   ]
  },
  {
   "cell_type": "code",
   "execution_count": 7,
   "metadata": {
    "ExecuteTime": {
     "end_time": "2021-05-14T13:11:16.834963Z",
     "start_time": "2021-05-14T13:11:16.830234Z"
    }
   },
   "outputs": [],
   "source": [
    "# T learner\n",
    "def T_learner(d):\n",
    "    # w == 0\n",
    "    d0 = d[d['W'] == 0]\n",
    "    X_d0 = d0.drop(columns=['W','Y'])\n",
    "    y_d0 = d0['Y']\n",
    "    clf_d0 = RandomForestClassifier()\n",
    "    clf_d0.fit(X_d0,y_d0)\n",
    "\n",
    "    # w == 1\n",
    "    d1 = d[d['W'] == 1]\n",
    "    X_d1 = d1.drop(columns=['W','Y'])\n",
    "    y_d1 = d1['Y']\n",
    "    clf_d1 = RandomForestClassifier()\n",
    "    clf_d1.fit(X_d1,y_d1)\n",
    "\n",
    "    pred_y0 = clf_d0.predict_proba(d.drop(columns= ['W','Y']))[:,1]\n",
    "    pred_y1 = clf_d1.predict_proba(d.drop(columns= ['W','Y']))[:,1]\n",
    "    \n",
    "    ate_score = (sum(pred_y1) - sum(pred_y0)) / len(pred_y0)\n",
    "    return ate_score, clf_d0, clf_d1"
   ]
  },
  {
   "cell_type": "code",
   "execution_count": 10,
   "metadata": {
    "ExecuteTime": {
     "end_time": "2021-05-14T13:11:25.803789Z",
     "start_time": "2021-05-14T13:11:25.792264Z"
    }
   },
   "outputs": [],
   "source": [
    "from metalearners import * "
   ]
  },
  {
   "cell_type": "code",
   "execution_count": 11,
   "metadata": {
    "ExecuteTime": {
     "end_time": "2021-05-14T13:11:51.251032Z",
     "start_time": "2021-05-14T13:11:26.480337Z"
    }
   },
   "outputs": [],
   "source": [
    "t_learner = Tlearner(RandomForestClassifier(),RandomForestClassifier())\n",
    "t_learner.fit(X = d.drop(columns=['W','Y']), treatment = d['W'], y =  d['Y'])"
   ]
  },
  {
   "cell_type": "code",
   "execution_count": 12,
   "metadata": {
    "ExecuteTime": {
     "end_time": "2021-05-14T13:12:00.372831Z",
     "start_time": "2021-05-14T13:11:51.309543Z"
    }
   },
   "outputs": [],
   "source": [
    "ite, yhat_ts, yhat_cs, rmse = t_learner.get_ite(X = d.drop(columns=['W','Y']), treatment = d['W'], y =  d['Y'])"
   ]
  },
  {
   "cell_type": "code",
   "execution_count": 13,
   "metadata": {
    "ExecuteTime": {
     "end_time": "2021-05-14T13:12:00.424409Z",
     "start_time": "2021-05-14T13:12:00.420477Z"
    }
   },
   "outputs": [
    {
     "data": {
      "text/plain": [
       "0.08207330339346212"
      ]
     },
     "execution_count": 13,
     "metadata": {},
     "output_type": "execute_result"
    }
   ],
   "source": [
    "np.mean(ite)"
   ]
  },
  {
   "cell_type": "code",
   "execution_count": 14,
   "metadata": {
    "ExecuteTime": {
     "end_time": "2021-05-14T13:12:44.227863Z",
     "start_time": "2021-05-14T13:12:00.475591Z"
    }
   },
   "outputs": [],
   "source": [
    "_, clf_d0, clf_d1 = T_learner(d)\n",
    "pred_y0 = clf_d0.predict(d.drop(columns= ['W','Y']))\n",
    "pred_y1 = clf_d1.predict(d.drop(columns= ['W','Y']))"
   ]
  },
  {
   "cell_type": "code",
   "execution_count": 15,
   "metadata": {
    "ExecuteTime": {
     "end_time": "2021-05-14T13:13:30.446695Z",
     "start_time": "2021-05-14T13:12:44.301166Z"
    }
   },
   "outputs": [],
   "source": [
    "new_y0 = []\n",
    "new_y1 = []\n",
    "for i in range(len(d)):\n",
    "    if d.iloc[i].W == 0.0:\n",
    "        new_y0.append(d.iloc[i].Y)\n",
    "        new_y1.append(pred_y1[i])\n",
    "    else:\n",
    "        new_y0.append(pred_y0[i])\n",
    "        new_y1.append(d.iloc[i].Y)"
   ]
  },
  {
   "cell_type": "code",
   "execution_count": 16,
   "metadata": {
    "ExecuteTime": {
     "end_time": "2021-05-14T13:13:30.896817Z",
     "start_time": "2021-05-14T13:13:30.786705Z"
    }
   },
   "outputs": [],
   "source": [
    "d['new_y0'] = new_y0\n",
    "d['new_y1'] = new_y1"
   ]
  },
  {
   "cell_type": "code",
   "execution_count": 17,
   "metadata": {
    "ExecuteTime": {
     "end_time": "2021-05-14T13:13:31.233097Z",
     "start_time": "2021-05-14T13:13:31.209951Z"
    }
   },
   "outputs": [
    {
     "data": {
      "text/html": [
       "<div>\n",
       "<style scoped>\n",
       "    .dataframe tbody tr th:only-of-type {\n",
       "        vertical-align: middle;\n",
       "    }\n",
       "\n",
       "    .dataframe tbody tr th {\n",
       "        vertical-align: top;\n",
       "    }\n",
       "\n",
       "    .dataframe thead th {\n",
       "        text-align: right;\n",
       "    }\n",
       "</style>\n",
       "<table border=\"1\" class=\"dataframe\">\n",
       "  <thead>\n",
       "    <tr style=\"text-align: right;\">\n",
       "      <th></th>\n",
       "      <th>yob</th>\n",
       "      <th>treatment</th>\n",
       "      <th>cluster</th>\n",
       "      <th>hh_id</th>\n",
       "      <th>hh_size</th>\n",
       "      <th>numberofnames</th>\n",
       "      <th>p2004_mean</th>\n",
       "      <th>g2004_mean</th>\n",
       "      <th>sex</th>\n",
       "      <th>g2000</th>\n",
       "      <th>g2002</th>\n",
       "      <th>p2000</th>\n",
       "      <th>p2002</th>\n",
       "      <th>p2004</th>\n",
       "      <th>W</th>\n",
       "      <th>Y</th>\n",
       "      <th>new_y0</th>\n",
       "      <th>new_y1</th>\n",
       "    </tr>\n",
       "  </thead>\n",
       "  <tbody>\n",
       "    <tr>\n",
       "      <th>5</th>\n",
       "      <td>1.716448</td>\n",
       "      <td>-0.446935</td>\n",
       "      <td>-1.727258</td>\n",
       "      <td>-1.727383</td>\n",
       "      <td>1.031783</td>\n",
       "      <td>0.139749</td>\n",
       "      <td>-1.443668</td>\n",
       "      <td>-0.259034</td>\n",
       "      <td>1.0</td>\n",
       "      <td>0.0</td>\n",
       "      <td>0.0</td>\n",
       "      <td>0.0</td>\n",
       "      <td>0.0</td>\n",
       "      <td>0.0</td>\n",
       "      <td>0</td>\n",
       "      <td>0</td>\n",
       "      <td>0.0</td>\n",
       "      <td>0.0</td>\n",
       "    </tr>\n",
       "    <tr>\n",
       "      <th>6</th>\n",
       "      <td>0.195026</td>\n",
       "      <td>-0.446935</td>\n",
       "      <td>-1.727258</td>\n",
       "      <td>-1.727383</td>\n",
       "      <td>1.031783</td>\n",
       "      <td>0.139749</td>\n",
       "      <td>-1.443668</td>\n",
       "      <td>-0.259034</td>\n",
       "      <td>0.0</td>\n",
       "      <td>1.0</td>\n",
       "      <td>1.0</td>\n",
       "      <td>0.0</td>\n",
       "      <td>1.0</td>\n",
       "      <td>0.0</td>\n",
       "      <td>0</td>\n",
       "      <td>1</td>\n",
       "      <td>1.0</td>\n",
       "      <td>0.0</td>\n",
       "    </tr>\n",
       "    <tr>\n",
       "      <th>7</th>\n",
       "      <td>-0.012441</td>\n",
       "      <td>-0.446935</td>\n",
       "      <td>-1.727258</td>\n",
       "      <td>-1.727383</td>\n",
       "      <td>1.031783</td>\n",
       "      <td>0.139749</td>\n",
       "      <td>-1.443668</td>\n",
       "      <td>-0.259034</td>\n",
       "      <td>1.0</td>\n",
       "      <td>1.0</td>\n",
       "      <td>1.0</td>\n",
       "      <td>0.0</td>\n",
       "      <td>1.0</td>\n",
       "      <td>0.0</td>\n",
       "      <td>0</td>\n",
       "      <td>1</td>\n",
       "      <td>1.0</td>\n",
       "      <td>0.0</td>\n",
       "    </tr>\n",
       "    <tr>\n",
       "      <th>8</th>\n",
       "      <td>0.817426</td>\n",
       "      <td>-0.446935</td>\n",
       "      <td>-1.727258</td>\n",
       "      <td>-1.727364</td>\n",
       "      <td>-0.233199</td>\n",
       "      <td>0.139749</td>\n",
       "      <td>-1.443668</td>\n",
       "      <td>-0.259034</td>\n",
       "      <td>0.0</td>\n",
       "      <td>0.0</td>\n",
       "      <td>0.0</td>\n",
       "      <td>0.0</td>\n",
       "      <td>1.0</td>\n",
       "      <td>0.0</td>\n",
       "      <td>0</td>\n",
       "      <td>0</td>\n",
       "      <td>0.0</td>\n",
       "      <td>0.0</td>\n",
       "    </tr>\n",
       "    <tr>\n",
       "      <th>9</th>\n",
       "      <td>0.748270</td>\n",
       "      <td>-0.446935</td>\n",
       "      <td>-1.727258</td>\n",
       "      <td>-1.727364</td>\n",
       "      <td>-0.233199</td>\n",
       "      <td>0.139749</td>\n",
       "      <td>-1.443668</td>\n",
       "      <td>-0.259034</td>\n",
       "      <td>1.0</td>\n",
       "      <td>1.0</td>\n",
       "      <td>1.0</td>\n",
       "      <td>0.0</td>\n",
       "      <td>1.0</td>\n",
       "      <td>0.0</td>\n",
       "      <td>0</td>\n",
       "      <td>0</td>\n",
       "      <td>0.0</td>\n",
       "      <td>1.0</td>\n",
       "    </tr>\n",
       "    <tr>\n",
       "      <th>...</th>\n",
       "      <td>...</td>\n",
       "      <td>...</td>\n",
       "      <td>...</td>\n",
       "      <td>...</td>\n",
       "      <td>...</td>\n",
       "      <td>...</td>\n",
       "      <td>...</td>\n",
       "      <td>...</td>\n",
       "      <td>...</td>\n",
       "      <td>...</td>\n",
       "      <td>...</td>\n",
       "      <td>...</td>\n",
       "      <td>...</td>\n",
       "      <td>...</td>\n",
       "      <td>...</td>\n",
       "      <td>...</td>\n",
       "      <td>...</td>\n",
       "      <td>...</td>\n",
       "    </tr>\n",
       "    <tr>\n",
       "      <th>344079</th>\n",
       "      <td>-0.911463</td>\n",
       "      <td>-0.446935</td>\n",
       "      <td>1.736207</td>\n",
       "      <td>1.736332</td>\n",
       "      <td>-0.233199</td>\n",
       "      <td>0.139749</td>\n",
       "      <td>0.952474</td>\n",
       "      <td>0.392520</td>\n",
       "      <td>1.0</td>\n",
       "      <td>1.0</td>\n",
       "      <td>1.0</td>\n",
       "      <td>0.0</td>\n",
       "      <td>1.0</td>\n",
       "      <td>1.0</td>\n",
       "      <td>0</td>\n",
       "      <td>1</td>\n",
       "      <td>1.0</td>\n",
       "      <td>1.0</td>\n",
       "    </tr>\n",
       "    <tr>\n",
       "      <th>344080</th>\n",
       "      <td>-0.081596</td>\n",
       "      <td>-0.446935</td>\n",
       "      <td>1.736207</td>\n",
       "      <td>1.736351</td>\n",
       "      <td>-0.233199</td>\n",
       "      <td>0.139749</td>\n",
       "      <td>-0.378716</td>\n",
       "      <td>-0.910586</td>\n",
       "      <td>1.0</td>\n",
       "      <td>1.0</td>\n",
       "      <td>1.0</td>\n",
       "      <td>1.0</td>\n",
       "      <td>0.0</td>\n",
       "      <td>1.0</td>\n",
       "      <td>0</td>\n",
       "      <td>0</td>\n",
       "      <td>0.0</td>\n",
       "      <td>0.0</td>\n",
       "    </tr>\n",
       "    <tr>\n",
       "      <th>344081</th>\n",
       "      <td>0.125870</td>\n",
       "      <td>-0.446935</td>\n",
       "      <td>1.736207</td>\n",
       "      <td>1.736351</td>\n",
       "      <td>-0.233199</td>\n",
       "      <td>0.139749</td>\n",
       "      <td>-0.378716</td>\n",
       "      <td>-0.910586</td>\n",
       "      <td>0.0</td>\n",
       "      <td>1.0</td>\n",
       "      <td>0.0</td>\n",
       "      <td>0.0</td>\n",
       "      <td>0.0</td>\n",
       "      <td>0.0</td>\n",
       "      <td>0</td>\n",
       "      <td>0</td>\n",
       "      <td>0.0</td>\n",
       "      <td>0.0</td>\n",
       "    </tr>\n",
       "    <tr>\n",
       "      <th>344082</th>\n",
       "      <td>-1.326396</td>\n",
       "      <td>-0.446935</td>\n",
       "      <td>1.736207</td>\n",
       "      <td>1.736371</td>\n",
       "      <td>-0.233199</td>\n",
       "      <td>0.139749</td>\n",
       "      <td>0.153760</td>\n",
       "      <td>-0.910586</td>\n",
       "      <td>1.0</td>\n",
       "      <td>1.0</td>\n",
       "      <td>1.0</td>\n",
       "      <td>1.0</td>\n",
       "      <td>1.0</td>\n",
       "      <td>1.0</td>\n",
       "      <td>0</td>\n",
       "      <td>1</td>\n",
       "      <td>1.0</td>\n",
       "      <td>1.0</td>\n",
       "    </tr>\n",
       "    <tr>\n",
       "      <th>344083</th>\n",
       "      <td>-0.496530</td>\n",
       "      <td>-0.446935</td>\n",
       "      <td>1.736207</td>\n",
       "      <td>1.736371</td>\n",
       "      <td>-0.233199</td>\n",
       "      <td>0.139749</td>\n",
       "      <td>0.153760</td>\n",
       "      <td>-0.910586</td>\n",
       "      <td>0.0</td>\n",
       "      <td>1.0</td>\n",
       "      <td>1.0</td>\n",
       "      <td>0.0</td>\n",
       "      <td>0.0</td>\n",
       "      <td>1.0</td>\n",
       "      <td>0</td>\n",
       "      <td>1</td>\n",
       "      <td>1.0</td>\n",
       "      <td>0.0</td>\n",
       "    </tr>\n",
       "  </tbody>\n",
       "</table>\n",
       "<p>229444 rows × 18 columns</p>\n",
       "</div>"
      ],
      "text/plain": [
       "             yob  treatment   cluster     hh_id   hh_size  numberofnames  \\\n",
       "5       1.716448  -0.446935 -1.727258 -1.727383  1.031783       0.139749   \n",
       "6       0.195026  -0.446935 -1.727258 -1.727383  1.031783       0.139749   \n",
       "7      -0.012441  -0.446935 -1.727258 -1.727383  1.031783       0.139749   \n",
       "8       0.817426  -0.446935 -1.727258 -1.727364 -0.233199       0.139749   \n",
       "9       0.748270  -0.446935 -1.727258 -1.727364 -0.233199       0.139749   \n",
       "...          ...        ...       ...       ...       ...            ...   \n",
       "344079 -0.911463  -0.446935  1.736207  1.736332 -0.233199       0.139749   \n",
       "344080 -0.081596  -0.446935  1.736207  1.736351 -0.233199       0.139749   \n",
       "344081  0.125870  -0.446935  1.736207  1.736351 -0.233199       0.139749   \n",
       "344082 -1.326396  -0.446935  1.736207  1.736371 -0.233199       0.139749   \n",
       "344083 -0.496530  -0.446935  1.736207  1.736371 -0.233199       0.139749   \n",
       "\n",
       "        p2004_mean  g2004_mean  sex  g2000  g2002  p2000  p2002  p2004  W  Y  \\\n",
       "5        -1.443668   -0.259034  1.0    0.0    0.0    0.0    0.0    0.0  0  0   \n",
       "6        -1.443668   -0.259034  0.0    1.0    1.0    0.0    1.0    0.0  0  1   \n",
       "7        -1.443668   -0.259034  1.0    1.0    1.0    0.0    1.0    0.0  0  1   \n",
       "8        -1.443668   -0.259034  0.0    0.0    0.0    0.0    1.0    0.0  0  0   \n",
       "9        -1.443668   -0.259034  1.0    1.0    1.0    0.0    1.0    0.0  0  0   \n",
       "...            ...         ...  ...    ...    ...    ...    ...    ... .. ..   \n",
       "344079    0.952474    0.392520  1.0    1.0    1.0    0.0    1.0    1.0  0  1   \n",
       "344080   -0.378716   -0.910586  1.0    1.0    1.0    1.0    0.0    1.0  0  0   \n",
       "344081   -0.378716   -0.910586  0.0    1.0    0.0    0.0    0.0    0.0  0  0   \n",
       "344082    0.153760   -0.910586  1.0    1.0    1.0    1.0    1.0    1.0  0  1   \n",
       "344083    0.153760   -0.910586  0.0    1.0    1.0    0.0    0.0    1.0  0  1   \n",
       "\n",
       "        new_y0  new_y1  \n",
       "5          0.0     0.0  \n",
       "6          1.0     0.0  \n",
       "7          1.0     0.0  \n",
       "8          0.0     0.0  \n",
       "9          0.0     1.0  \n",
       "...        ...     ...  \n",
       "344079     1.0     1.0  \n",
       "344080     0.0     0.0  \n",
       "344081     0.0     0.0  \n",
       "344082     1.0     1.0  \n",
       "344083     1.0     0.0  \n",
       "\n",
       "[229444 rows x 18 columns]"
      ]
     },
     "execution_count": 17,
     "metadata": {},
     "output_type": "execute_result"
    }
   ],
   "source": [
    "d"
   ]
  },
  {
   "cell_type": "code",
   "execution_count": 18,
   "metadata": {
    "ExecuteTime": {
     "end_time": "2021-05-14T13:13:31.547622Z",
     "start_time": "2021-05-14T13:13:31.545138Z"
    }
   },
   "outputs": [],
   "source": [
    "full_ate=0.08"
   ]
  },
  {
   "cell_type": "code",
   "execution_count": 19,
   "metadata": {
    "ExecuteTime": {
     "end_time": "2021-05-14T13:13:31.862569Z",
     "start_time": "2021-05-14T13:13:31.851743Z"
    }
   },
   "outputs": [],
   "source": [
    "def get_bootstrap_stats(boot_estimates, full_estimates, alpha=0.05):\n",
    "    \n",
    "    est_stat = []\n",
    "    signif_level = -norm.ppf(alpha/2)\n",
    "    est_boot = np.array(boot_estimates)\n",
    "    stat = {}\n",
    "    stat['estimator'] = 'T-learner'\n",
    "    stat['estimate'] = full_estimates\n",
    "    #stat['mean_boot'] = np.mean(est_boot)\n",
    "    stat['SD'] = np.std(est_boot)\n",
    "    stat['CI_radius'] = signif_level * stat['SD']\n",
    "    stat['lower_ci'] = stat['estimate'] - stat['CI_radius']\n",
    "    stat['upper_ci'] = stat['estimate'] + stat['CI_radius']\n",
    "    est_stat.append(stat)\n",
    "\n",
    "    return pd.DataFrame(est_stat)\n",
    "\n",
    "\n",
    "def get_samples(data, control_treat_prop, n_training_set = 50000, n_testing_set = 2000):\n",
    "    \n",
    "    # randomly select 50000 training set and 2000 testing set\n",
    "    # among them, we need to make w = 1 and w = 0 according to proportion, this is the permutation we have\n",
    "    idx = list(np.arange(len(data)))\n",
    "    random_idx = random.sample(idx, n_training_set + n_testing_set)\n",
    "    # frist 50000 are training, last 2000 are testing\n",
    "    train_sample = random_idx[:n_training_set]\n",
    "    test_sample = random_idx[:n_testing_set]\n",
    "    train_df = data.iloc[train_sample].copy()\n",
    "    test_df = data.iloc[test_sample].copy()\n",
    "    \n",
    "    # assgin w = 1 according to proprtion\n",
    "    w_train = np.zeros(len(train_sample))\n",
    "    w_train[int(len(train_sample) * control_treat_prop) :] = 1 \n",
    "    w_test = np.zeros(len(test_sample))\n",
    "    w_test[int(len(test_sample) * control_treat_prop) :] = 1 \n",
    "    \n",
    "    # choose new Y\n",
    "    y_train = []\n",
    "    y_test = []\n",
    "    for i in range(len(w_train)):\n",
    "        if w_train[i] == 0:\n",
    "            y_train.append(train_df.iloc[i].new_y0)\n",
    "        else:\n",
    "            y_train.append(train_df.iloc[i].new_y1)\n",
    "    for i in range(len(w_test)):\n",
    "        if w_test[i] == 0:\n",
    "            y_test.append(test_df.iloc[i].new_y0)\n",
    "        else:\n",
    "            y_test.append(test_df.iloc[i].new_y1)\n",
    "    # add new W,Y to both dfs respectively\n",
    "    train_df = train_df.drop(columns = ['W','Y','new_y0','new_y1'])\n",
    "    test_df = test_df.drop(columns = ['W','Y','new_y0','new_y1'])\n",
    "    train_df['W'] = w_train\n",
    "    train_df['Y'] = y_train\n",
    "    test_df['W'] = w_test\n",
    "    test_df['Y'] = y_test\n",
    "    \n",
    "    return train_df, test_df\n",
    "\n",
    "\n",
    "def boostrap_exp(estimator,data,control_treat_prop, n_training_set = 50000, n_testing_set = 2000, full_ate = full_ate):\n",
    "        bool_ates = []\n",
    "        full_estimate_ate = full_ate\n",
    "        # only get test_df \n",
    "        _, test_df = get_samples(data,control_treat_prop)\n",
    "        for _ in range(10):\n",
    "            t_learner = Tlearner(RandomForestClassifier(),RandomForestClassifier())\n",
    "            train_df, _ = get_samples(data,control_treat_prop)\n",
    "            # train T-learner\n",
    "            t_learner.fit(train_df.drop(columns = ['W','Y']), train_df['W'], train_df['Y'])\n",
    "            # calculate the ate for boot test set\n",
    "            ite, _, _, _ = t_learner.get_ite(test_df.drop(columns = ['W','Y']), test_df['W'], test_df['Y'])\n",
    "            bool_ates.append(np.mean(ite))\n",
    "        \n",
    "        return get_bootstrap_stats(bool_ates, full_estimate_ate)\n"
   ]
  },
  {
   "cell_type": "code",
   "execution_count": 20,
   "metadata": {
    "ExecuteTime": {
     "end_time": "2021-05-14T13:15:19.376930Z",
     "start_time": "2021-05-14T13:13:32.113640Z"
    }
   },
   "outputs": [],
   "source": [
    "control_treat_prop = len(d[d['W'] == 1]) / len(d)\n",
    "result = boostrap_exp(T_learner, d, control_treat_prop )"
   ]
  },
  {
   "cell_type": "code",
   "execution_count": 21,
   "metadata": {
    "ExecuteTime": {
     "end_time": "2021-05-14T13:15:19.718097Z",
     "start_time": "2021-05-14T13:15:19.711007Z"
    }
   },
   "outputs": [
    {
     "data": {
      "text/html": [
       "<div>\n",
       "<style scoped>\n",
       "    .dataframe tbody tr th:only-of-type {\n",
       "        vertical-align: middle;\n",
       "    }\n",
       "\n",
       "    .dataframe tbody tr th {\n",
       "        vertical-align: top;\n",
       "    }\n",
       "\n",
       "    .dataframe thead th {\n",
       "        text-align: right;\n",
       "    }\n",
       "</style>\n",
       "<table border=\"1\" class=\"dataframe\">\n",
       "  <thead>\n",
       "    <tr style=\"text-align: right;\">\n",
       "      <th></th>\n",
       "      <th>estimator</th>\n",
       "      <th>estimate</th>\n",
       "      <th>SD</th>\n",
       "      <th>CI_radius</th>\n",
       "      <th>lower_ci</th>\n",
       "      <th>upper_ci</th>\n",
       "    </tr>\n",
       "  </thead>\n",
       "  <tbody>\n",
       "    <tr>\n",
       "      <th>0</th>\n",
       "      <td>T-learner</td>\n",
       "      <td>0.08</td>\n",
       "      <td>0.006373</td>\n",
       "      <td>0.012491</td>\n",
       "      <td>0.067509</td>\n",
       "      <td>0.092491</td>\n",
       "    </tr>\n",
       "  </tbody>\n",
       "</table>\n",
       "</div>"
      ],
      "text/plain": [
       "   estimator  estimate        SD  CI_radius  lower_ci  upper_ci\n",
       "0  T-learner      0.08  0.006373   0.012491  0.067509  0.092491"
      ]
     },
     "execution_count": 21,
     "metadata": {},
     "output_type": "execute_result"
    }
   ],
   "source": [
    "result"
   ]
  },
  {
   "cell_type": "code",
   "execution_count": null,
   "metadata": {},
   "outputs": [],
   "source": []
  }
 ],
 "metadata": {
  "hide_input": false,
  "kernelspec": {
   "display_name": "Python 3",
   "language": "python",
   "name": "python3"
  },
  "language_info": {
   "codemirror_mode": {
    "name": "ipython",
    "version": 3
   },
   "file_extension": ".py",
   "mimetype": "text/x-python",
   "name": "python",
   "nbconvert_exporter": "python",
   "pygments_lexer": "ipython3",
   "version": "3.8.3"
  },
  "toc": {
   "base_numbering": 1,
   "nav_menu": {},
   "number_sections": true,
   "sideBar": true,
   "skip_h1_title": false,
   "title_cell": "Table of Contents",
   "title_sidebar": "Contents",
   "toc_cell": false,
   "toc_position": {},
   "toc_section_display": true,
   "toc_window_display": false
  },
  "varInspector": {
   "cols": {
    "lenName": 16,
    "lenType": 16,
    "lenVar": 40
   },
   "kernels_config": {
    "python": {
     "delete_cmd_postfix": "",
     "delete_cmd_prefix": "del ",
     "library": "var_list.py",
     "varRefreshCmd": "print(var_dic_list())"
    },
    "r": {
     "delete_cmd_postfix": ") ",
     "delete_cmd_prefix": "rm(",
     "library": "var_list.r",
     "varRefreshCmd": "cat(var_dic_list()) "
    }
   },
   "types_to_exclude": [
    "module",
    "function",
    "builtin_function_or_method",
    "instance",
    "_Feature"
   ],
   "window_display": false
  }
 },
 "nbformat": 4,
 "nbformat_minor": 4
}

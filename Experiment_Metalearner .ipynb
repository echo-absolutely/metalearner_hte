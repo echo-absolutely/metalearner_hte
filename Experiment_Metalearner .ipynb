{
 "cells": [
  {
   "cell_type": "code",
   "execution_count": 29,
   "metadata": {},
   "outputs": [],
   "source": [
    "import pandas as pd\n",
    "import numpy as np\n",
    "from sklearn.preprocessing import StandardScaler, PolynomialFeatures\n",
    "from sklearn.linear_model import LinearRegression, LogisticRegression\n",
    "from sklearn.tree import DecisionTreeRegressor\n",
    "from sklearn.ensemble import RandomForestClassifier, RandomForestRegressor\n",
    "from scipy.stats import norm, sem\n",
    "from scipy.interpolate import UnivariateSpline\n",
    "from sklearn.calibration import calibration_curve\n",
    "import matplotlib.pyplot as plt\n",
    "import seaborn as sns\n",
    "from scipy.stats.stats import pearsonr\n",
    "from numpy.random import default_rng\n",
    "import random\n",
    "pd.set_option('display.max_columns', 100)"
   ]
  },
  {
   "cell_type": "code",
   "execution_count": 30,
   "metadata": {},
   "outputs": [],
   "source": [
    "# data preprocessing \n",
    "\n",
    "df = pd.read_csv('GerberGreenLarimer_APSR_2008_social_pressure.csv')\n",
    "df = df[df['treatment'].isin([' Control',' Neighbors'])]\n",
    "\n",
    "# df = pd.read_csv('GerberGreenLarimer_APSR_2008_social_pressure.csv')\n",
    "df['treatment'] = np.where(df.treatment == ' Control',0,1)\n",
    "df['voted'] = np.where(df.voted == 'Yes', 1, 0)\n",
    "df['sex'] = np.where(df.sex == 'male',1, 0)\n",
    "df['g2000'] = np.where(df.g2000 == 'yes', 1, 0)\n",
    "df['g2002'] = np.where(df.g2002 == 'yes', 1, 0)\n",
    "df['g2004'] = np.where(df.g2004 == 'yes', 1, 0)\n",
    "df['p2000'] = np.where(df.p2000 == 'yes', 1, 0)\n",
    "df['p2002'] = np.where(df.p2002 == 'yes', 1, 0)\n",
    "df['p2004'] = np.where(df.p2004 == 'Yes', 1, 0)\n",
    "\n",
    "cts_variables_names = [\"yob\",\"treatment\",\"cluster\",\"hh_id\",\"hh_size\",\"numberofnames\",\"p2004_mean\",\"g2004_mean\"]\n",
    "binary_variables_names = [\"sex\",\"g2000\", \"g2002\", \"p2000\", \"p2002\", \"p2004\"]\n",
    "# for column in binary_variables_names:\n",
    "#     if column == 'sex':\n",
    "#         df[column] = np.where(df[column] == ' male',1,0)\n",
    "#     else:\n",
    "#         df[column] = df[column].str.lower()\n",
    "#         df[column] = np.where(df[column] == ' yes',1,0)\n",
    "scaled_cts_covariates = StandardScaler().fit_transform(df[cts_variables_names])\n",
    "binary_covariates = df[binary_variables_names]\n",
    "d = pd.DataFrame(np.concatenate((scaled_cts_covariates, binary_covariates), axis=1), \n",
    "                        columns=cts_variables_names+binary_variables_names, index=df.index)\n",
    "d[\"W\"] = df[\"treatment\"]\n",
    "d[\"Y\"] = df[\"voted\"]\n"
   ]
  },
  {
   "cell_type": "code",
   "execution_count": 2,
   "metadata": {},
   "outputs": [],
   "source": [
    "from metalearner import *"
   ]
  },
  {
   "cell_type": "markdown",
   "metadata": {},
   "source": [
    "#### T learner"
   ]
  },
  {
   "cell_type": "code",
   "execution_count": 4,
   "metadata": {},
   "outputs": [],
   "source": [
    "t_learner = Tlearner(RandomForestClassifier(),RandomForestClassifier())\n",
    "t_learner.fit(X = d.drop(columns=['W','Y']), treatment = d['W'], y =  d['Y'])"
   ]
  },
  {
   "cell_type": "code",
   "execution_count": 5,
   "metadata": {},
   "outputs": [],
   "source": [
    "ite, yhat_ts, yhat_cs, rmse = t_learner.get_ite(X = d.drop(columns=['W','Y']), treatment = d['W'], y =  d['Y'])"
   ]
  },
  {
   "cell_type": "code",
   "execution_count": 11,
   "metadata": {},
   "outputs": [
    {
     "name": "stdout",
     "output_type": "stream",
     "text": [
      "[ 0.48 -0.58 -0.56 ...  0.12 -0.31 -0.38]\n"
     ]
    }
   ],
   "source": [
    "print(ite)"
   ]
  },
  {
   "cell_type": "code",
   "execution_count": 12,
   "metadata": {},
   "outputs": [
    {
     "name": "stdout",
     "output_type": "stream",
     "text": [
      "[0.51 0.21 0.29 ... 0.2  0.57 0.48]\n"
     ]
    }
   ],
   "source": [
    "print(yhat_ts)"
   ]
  },
  {
   "cell_type": "code",
   "execution_count": 13,
   "metadata": {},
   "outputs": [
    {
     "name": "stdout",
     "output_type": "stream",
     "text": [
      "[0.03 0.79 0.85 ... 0.08 0.88 0.86]\n"
     ]
    }
   ],
   "source": [
    "print(yhat_cs)"
   ]
  },
  {
   "cell_type": "code",
   "execution_count": 9,
   "metadata": {},
   "outputs": [
    {
     "data": {
      "text/html": [
       "<div>\n",
       "<style scoped>\n",
       "    .dataframe tbody tr th:only-of-type {\n",
       "        vertical-align: middle;\n",
       "    }\n",
       "\n",
       "    .dataframe tbody tr th {\n",
       "        vertical-align: top;\n",
       "    }\n",
       "\n",
       "    .dataframe thead th {\n",
       "        text-align: right;\n",
       "    }\n",
       "</style>\n",
       "<table border=\"1\" class=\"dataframe\">\n",
       "  <thead>\n",
       "    <tr style=\"text-align: right;\">\n",
       "      <th></th>\n",
       "      <th>estimator</th>\n",
       "      <th>estimate</th>\n",
       "      <th>SD</th>\n",
       "      <th>CI_radius</th>\n",
       "      <th>lower_ci</th>\n",
       "      <th>upper_ci</th>\n",
       "    </tr>\n",
       "  </thead>\n",
       "  <tbody>\n",
       "    <tr>\n",
       "      <th>0</th>\n",
       "      <td>T-learner</td>\n",
       "      <td>0.08</td>\n",
       "      <td>0.875057</td>\n",
       "      <td>1.715081</td>\n",
       "      <td>-1.635081</td>\n",
       "      <td>1.795081</td>\n",
       "    </tr>\n",
       "  </tbody>\n",
       "</table>\n",
       "</div>"
      ],
      "text/plain": [
       "   estimator  estimate        SD  CI_radius  lower_ci  upper_ci\n",
       "0  T-learner      0.08  0.875057   1.715081 -1.635081  1.795081"
      ]
     },
     "execution_count": 9,
     "metadata": {},
     "output_type": "execute_result"
    }
   ],
   "source": [
    "def get_bootstrap_stats(boot_estimates, full_estimates, alpha=0.05):\n",
    "    \n",
    "    est_stat = []\n",
    "    signif_level = -norm.ppf(alpha/2)\n",
    "    est_boot = np.array(boot_estimates)\n",
    "    stat = {}\n",
    "    stat['estimator'] = 'T-learner'\n",
    "    stat['estimate'] = full_estimates\n",
    "    #stat['mean_boot'] = np.mean(est_boot)\n",
    "    stat['SD'] = np.std(est_boot)\n",
    "    stat['CI_radius'] = signif_level * stat['SD']\n",
    "    stat['lower_ci'] = stat['estimate'] - stat['CI_radius']\n",
    "    stat['upper_ci'] = stat['estimate'] + stat['CI_radius']\n",
    "    est_stat.append(stat)\n",
    "\n",
    "    return pd.DataFrame(est_stat)\n",
    "\n",
    "get_bootstrap_stats(ite, 0.080)"
   ]
  },
  {
   "cell_type": "markdown",
   "metadata": {},
   "source": [
    "#### S learner"
   ]
  },
  {
   "cell_type": "code",
   "execution_count": 21,
   "metadata": {},
   "outputs": [],
   "source": [
    "s_learner = Slearner(baselearner=RandomForestClassifier())\n",
    "s_learner.fit(X = d.drop(columns=['W','Y']), treatment = d['W'], y =  d['Y'])"
   ]
  },
  {
   "cell_type": "code",
   "execution_count": 22,
   "metadata": {},
   "outputs": [],
   "source": [
    "ite, yhat_ts, yhat_cs, rmse = s_learner.get_ite(X = d.drop(columns=['W','Y']), treatment = d['W'], y =  d['Y'])"
   ]
  },
  {
   "cell_type": "code",
   "execution_count": 23,
   "metadata": {},
   "outputs": [],
   "source": [
    "ate = np.mean(ite)"
   ]
  },
  {
   "cell_type": "code",
   "execution_count": 24,
   "metadata": {},
   "outputs": [
    {
     "data": {
      "text/html": [
       "<div>\n",
       "<style scoped>\n",
       "    .dataframe tbody tr th:only-of-type {\n",
       "        vertical-align: middle;\n",
       "    }\n",
       "\n",
       "    .dataframe tbody tr th {\n",
       "        vertical-align: top;\n",
       "    }\n",
       "\n",
       "    .dataframe thead th {\n",
       "        text-align: right;\n",
       "    }\n",
       "</style>\n",
       "<table border=\"1\" class=\"dataframe\">\n",
       "  <thead>\n",
       "    <tr style=\"text-align: right;\">\n",
       "      <th></th>\n",
       "      <th>estimator</th>\n",
       "      <th>estimate</th>\n",
       "      <th>SD</th>\n",
       "      <th>CI_radius</th>\n",
       "      <th>lower_ci</th>\n",
       "      <th>upper_ci</th>\n",
       "    </tr>\n",
       "  </thead>\n",
       "  <tbody>\n",
       "    <tr>\n",
       "      <th>0</th>\n",
       "      <td>T-learner</td>\n",
       "      <td>0.037524</td>\n",
       "      <td>0.143044</td>\n",
       "      <td>0.280361</td>\n",
       "      <td>-0.242837</td>\n",
       "      <td>0.317886</td>\n",
       "    </tr>\n",
       "  </tbody>\n",
       "</table>\n",
       "</div>"
      ],
      "text/plain": [
       "   estimator  estimate        SD  CI_radius  lower_ci  upper_ci\n",
       "0  T-learner  0.037524  0.143044   0.280361 -0.242837  0.317886"
      ]
     },
     "execution_count": 24,
     "metadata": {},
     "output_type": "execute_result"
    }
   ],
   "source": [
    "get_bootstrap_stats(ite, ate)"
   ]
  },
  {
   "cell_type": "markdown",
   "metadata": {},
   "source": [
    "### Synthetic data "
   ]
  },
  {
   "cell_type": "code",
   "execution_count": 19,
   "metadata": {},
   "outputs": [],
   "source": [
    "from resample import *"
   ]
  },
  {
   "cell_type": "code",
   "execution_count": 20,
   "metadata": {},
   "outputs": [],
   "source": [
    "syn_data_class = resample_from_synthetic_data(n_sample= 1000000)\n",
    "d = syn_data_class.get_data_with_same_distribution(ratio = 0.5)"
   ]
  },
  {
   "cell_type": "code",
   "execution_count": 21,
   "metadata": {},
   "outputs": [
    {
     "data": {
      "text/html": [
       "<div>\n",
       "<style scoped>\n",
       "    .dataframe tbody tr th:only-of-type {\n",
       "        vertical-align: middle;\n",
       "    }\n",
       "\n",
       "    .dataframe tbody tr th {\n",
       "        vertical-align: top;\n",
       "    }\n",
       "\n",
       "    .dataframe thead th {\n",
       "        text-align: right;\n",
       "    }\n",
       "</style>\n",
       "<table border=\"1\" class=\"dataframe\">\n",
       "  <thead>\n",
       "    <tr style=\"text-align: right;\">\n",
       "      <th></th>\n",
       "      <th>W</th>\n",
       "      <th>Y0</th>\n",
       "      <th>Y1</th>\n",
       "      <th>X</th>\n",
       "      <th>Y</th>\n",
       "    </tr>\n",
       "  </thead>\n",
       "  <tbody>\n",
       "    <tr>\n",
       "      <th>0</th>\n",
       "      <td>0</td>\n",
       "      <td>1.836972</td>\n",
       "      <td>2.836972</td>\n",
       "      <td>0.836972</td>\n",
       "      <td>1.836972</td>\n",
       "    </tr>\n",
       "    <tr>\n",
       "      <th>1</th>\n",
       "      <td>0</td>\n",
       "      <td>1.133960</td>\n",
       "      <td>2.133960</td>\n",
       "      <td>0.133960</td>\n",
       "      <td>1.133960</td>\n",
       "    </tr>\n",
       "    <tr>\n",
       "      <th>2</th>\n",
       "      <td>0</td>\n",
       "      <td>1.755127</td>\n",
       "      <td>2.755127</td>\n",
       "      <td>0.755127</td>\n",
       "      <td>1.755127</td>\n",
       "    </tr>\n",
       "    <tr>\n",
       "      <th>3</th>\n",
       "      <td>0</td>\n",
       "      <td>1.735424</td>\n",
       "      <td>2.735424</td>\n",
       "      <td>0.735424</td>\n",
       "      <td>1.735424</td>\n",
       "    </tr>\n",
       "    <tr>\n",
       "      <th>4</th>\n",
       "      <td>0</td>\n",
       "      <td>1.027791</td>\n",
       "      <td>2.027791</td>\n",
       "      <td>0.027791</td>\n",
       "      <td>1.027791</td>\n",
       "    </tr>\n",
       "    <tr>\n",
       "      <th>...</th>\n",
       "      <td>...</td>\n",
       "      <td>...</td>\n",
       "      <td>...</td>\n",
       "      <td>...</td>\n",
       "      <td>...</td>\n",
       "    </tr>\n",
       "    <tr>\n",
       "      <th>999995</th>\n",
       "      <td>1</td>\n",
       "      <td>1.794883</td>\n",
       "      <td>2.794883</td>\n",
       "      <td>0.794883</td>\n",
       "      <td>2.794883</td>\n",
       "    </tr>\n",
       "    <tr>\n",
       "      <th>999996</th>\n",
       "      <td>1</td>\n",
       "      <td>1.203063</td>\n",
       "      <td>2.203063</td>\n",
       "      <td>0.203063</td>\n",
       "      <td>2.203063</td>\n",
       "    </tr>\n",
       "    <tr>\n",
       "      <th>999997</th>\n",
       "      <td>1</td>\n",
       "      <td>1.098975</td>\n",
       "      <td>2.098975</td>\n",
       "      <td>0.098975</td>\n",
       "      <td>2.098975</td>\n",
       "    </tr>\n",
       "    <tr>\n",
       "      <th>999998</th>\n",
       "      <td>1</td>\n",
       "      <td>1.663238</td>\n",
       "      <td>2.663238</td>\n",
       "      <td>0.663238</td>\n",
       "      <td>2.663238</td>\n",
       "    </tr>\n",
       "    <tr>\n",
       "      <th>999999</th>\n",
       "      <td>1</td>\n",
       "      <td>1.543633</td>\n",
       "      <td>2.543633</td>\n",
       "      <td>0.543633</td>\n",
       "      <td>2.543633</td>\n",
       "    </tr>\n",
       "  </tbody>\n",
       "</table>\n",
       "<p>1000000 rows × 5 columns</p>\n",
       "</div>"
      ],
      "text/plain": [
       "        W        Y0        Y1         X         Y\n",
       "0       0  1.836972  2.836972  0.836972  1.836972\n",
       "1       0  1.133960  2.133960  0.133960  1.133960\n",
       "2       0  1.755127  2.755127  0.755127  1.755127\n",
       "3       0  1.735424  2.735424  0.735424  1.735424\n",
       "4       0  1.027791  2.027791  0.027791  1.027791\n",
       "...    ..       ...       ...       ...       ...\n",
       "999995  1  1.794883  2.794883  0.794883  2.794883\n",
       "999996  1  1.203063  2.203063  0.203063  2.203063\n",
       "999997  1  1.098975  2.098975  0.098975  2.098975\n",
       "999998  1  1.663238  2.663238  0.663238  2.663238\n",
       "999999  1  1.543633  2.543633  0.543633  2.543633\n",
       "\n",
       "[1000000 rows x 5 columns]"
      ]
     },
     "execution_count": 21,
     "metadata": {},
     "output_type": "execute_result"
    }
   ],
   "source": [
    "d"
   ]
  },
  {
   "cell_type": "code",
   "execution_count": 22,
   "metadata": {},
   "outputs": [],
   "source": [
    "s_learner = Slearner(baselearner=LinearRegression(), is_regressor=True)\n",
    "s_learner.fit(X = np.array(d['X']), treatment = np.array(d['W']), \n",
    "              y =  np.array(d['Y']))"
   ]
  },
  {
   "cell_type": "code",
   "execution_count": 23,
   "metadata": {},
   "outputs": [],
   "source": [
    "ite, yhat_ts, yhat_cs, rmse = s_learner.get_ite(X = np.array(d['X']), treatment = d['W'], y =  d['Y'])"
   ]
  },
  {
   "cell_type": "code",
   "execution_count": 24,
   "metadata": {},
   "outputs": [
    {
     "data": {
      "text/html": [
       "<div>\n",
       "<style scoped>\n",
       "    .dataframe tbody tr th:only-of-type {\n",
       "        vertical-align: middle;\n",
       "    }\n",
       "\n",
       "    .dataframe tbody tr th {\n",
       "        vertical-align: top;\n",
       "    }\n",
       "\n",
       "    .dataframe thead th {\n",
       "        text-align: right;\n",
       "    }\n",
       "</style>\n",
       "<table border=\"1\" class=\"dataframe\">\n",
       "  <thead>\n",
       "    <tr style=\"text-align: right;\">\n",
       "      <th></th>\n",
       "      <th>estimator</th>\n",
       "      <th>estimate</th>\n",
       "      <th>SD</th>\n",
       "      <th>CI_radius</th>\n",
       "      <th>lower_ci</th>\n",
       "      <th>upper_ci</th>\n",
       "    </tr>\n",
       "  </thead>\n",
       "  <tbody>\n",
       "    <tr>\n",
       "      <th>0</th>\n",
       "      <td>T-learner</td>\n",
       "      <td>0.5</td>\n",
       "      <td>0.5</td>\n",
       "      <td>0.979982</td>\n",
       "      <td>-0.479982</td>\n",
       "      <td>1.479982</td>\n",
       "    </tr>\n",
       "  </tbody>\n",
       "</table>\n",
       "</div>"
      ],
      "text/plain": [
       "   estimator  estimate   SD  CI_radius  lower_ci  upper_ci\n",
       "0  T-learner       0.5  0.5   0.979982 -0.479982  1.479982"
      ]
     },
     "execution_count": 24,
     "metadata": {},
     "output_type": "execute_result"
    }
   ],
   "source": [
    "ate = np.mean(ite)\n",
    "get_bootstrap_stats(ite, ate)"
   ]
  },
  {
   "cell_type": "code",
   "execution_count": 25,
   "metadata": {},
   "outputs": [
    {
     "data": {
      "text/plain": [
       "1.795962156100918e-14"
      ]
     },
     "execution_count": 25,
     "metadata": {},
     "output_type": "execute_result"
    }
   ],
   "source": [
    "rmse"
   ]
  },
  {
   "cell_type": "code",
   "execution_count": 26,
   "metadata": {},
   "outputs": [],
   "source": [
    "t_learner = Tlearner(LinearRegression(),LinearRegression(), is_regressor= True)\n",
    "t_learner.fit(X = np.array(d['X']).reshape(-1,1), treatment = np.array(d['W']), \n",
    "              y =  np.array(d['Y']))"
   ]
  },
  {
   "cell_type": "code",
   "execution_count": 27,
   "metadata": {},
   "outputs": [],
   "source": [
    "ite, yhat_ts, yhat_cs, rmse = t_learner.get_ite(X = np.array(d['X']).reshape(-1,1), treatment = np.array(d['W']), \n",
    "              y =  np.array(d['Y']))"
   ]
  },
  {
   "cell_type": "code",
   "execution_count": 28,
   "metadata": {},
   "outputs": [
    {
     "data": {
      "text/html": [
       "<div>\n",
       "<style scoped>\n",
       "    .dataframe tbody tr th:only-of-type {\n",
       "        vertical-align: middle;\n",
       "    }\n",
       "\n",
       "    .dataframe tbody tr th {\n",
       "        vertical-align: top;\n",
       "    }\n",
       "\n",
       "    .dataframe thead th {\n",
       "        text-align: right;\n",
       "    }\n",
       "</style>\n",
       "<table border=\"1\" class=\"dataframe\">\n",
       "  <thead>\n",
       "    <tr style=\"text-align: right;\">\n",
       "      <th></th>\n",
       "      <th>estimator</th>\n",
       "      <th>estimate</th>\n",
       "      <th>SD</th>\n",
       "      <th>CI_radius</th>\n",
       "      <th>lower_ci</th>\n",
       "      <th>upper_ci</th>\n",
       "    </tr>\n",
       "  </thead>\n",
       "  <tbody>\n",
       "    <tr>\n",
       "      <th>0</th>\n",
       "      <td>T-learner</td>\n",
       "      <td>1.0</td>\n",
       "      <td>1.643253e-15</td>\n",
       "      <td>3.220717e-15</td>\n",
       "      <td>1.0</td>\n",
       "      <td>1.0</td>\n",
       "    </tr>\n",
       "  </tbody>\n",
       "</table>\n",
       "</div>"
      ],
      "text/plain": [
       "   estimator  estimate            SD     CI_radius  lower_ci  upper_ci\n",
       "0  T-learner       1.0  1.643253e-15  3.220717e-15       1.0       1.0"
      ]
     },
     "execution_count": 28,
     "metadata": {},
     "output_type": "execute_result"
    }
   ],
   "source": [
    "ate = np.mean(ite)\n",
    "get_bootstrap_stats(ite, ate)"
   ]
  },
  {
   "cell_type": "code",
   "execution_count": null,
   "metadata": {},
   "outputs": [],
   "source": []
  }
 ],
 "metadata": {
  "kernelspec": {
   "display_name": "Python 3",
   "language": "python",
   "name": "python3"
  },
  "language_info": {
   "codemirror_mode": {
    "name": "ipython",
    "version": 3
   },
   "file_extension": ".py",
   "mimetype": "text/x-python",
   "name": "python",
   "nbconvert_exporter": "python",
   "pygments_lexer": "ipython3",
   "version": "3.8.3"
  }
 },
 "nbformat": 4,
 "nbformat_minor": 4
}

{
 "cells": [
  {
   "cell_type": "code",
   "execution_count": 1,
   "metadata": {},
   "outputs": [],
   "source": [
    "import pandas as pd\n",
    "import numpy as np\n",
    "from sklearn.preprocessing import StandardScaler, PolynomialFeatures\n",
    "from sklearn.linear_model import LinearRegression, LogisticRegression\n",
    "from sklearn.tree import DecisionTreeRegressor\n",
    "from sklearn.ensemble import RandomForestClassifier, RandomForestRegressor\n",
    "from scipy.stats import norm, sem\n",
    "from scipy.interpolate import UnivariateSpline\n",
    "from sklearn.calibration import calibration_curve\n",
    "import matplotlib.pyplot as plt\n",
    "import seaborn as sns\n",
    "from scipy.stats.stats import pearsonr\n",
    "from numpy.random import default_rng\n",
    "import random\n",
    "pd.set_option('display.max_columns', 100)"
   ]
  },
  {
   "cell_type": "code",
   "execution_count": 24,
   "metadata": {},
   "outputs": [],
   "source": [
    "from metalearner import * "
   ]
  },
  {
   "cell_type": "code",
   "execution_count": 2,
   "metadata": {},
   "outputs": [],
   "source": [
    "df = pd.read_csv('GerberGreenLarimer_APSR_2008_social_pressure.csv')\n",
    "df = df[df['treatment'].isin([' Control',' Neighbors'])]"
   ]
  },
  {
   "cell_type": "code",
   "execution_count": 3,
   "metadata": {},
   "outputs": [],
   "source": [
    "# df = pd.read_csv('GerberGreenLarimer_APSR_2008_social_pressure.csv')\n",
    "df['treatment'] = np.where(df.treatment == ' Control',0,1)\n",
    "df['voted'] = np.where(df.voted == 'Yes', 1, 0)\n",
    "df['sex'] = np.where(df.sex == 'male',1, 0)\n",
    "df['g2000'] = np.where(df.g2000 == 'yes', 1, 0)\n",
    "df['g2002'] = np.where(df.g2002 == 'yes', 1, 0)\n",
    "df['g2004'] = np.where(df.g2004 == 'yes', 1, 0)\n",
    "df['p2000'] = np.where(df.p2000 == 'yes', 1, 0)\n",
    "df['p2002'] = np.where(df.p2002 == 'yes', 1, 0)\n",
    "df['p2004'] = np.where(df.p2004 == 'Yes', 1, 0)"
   ]
  },
  {
   "cell_type": "code",
   "execution_count": 4,
   "metadata": {},
   "outputs": [],
   "source": [
    "cts_variables_names = [\"yob\",\"treatment\",\"cluster\",\"hh_id\",\"hh_size\",\"numberofnames\",\"p2004_mean\",\"g2004_mean\"]\n",
    "binary_variables_names = [\"sex\",\"g2000\", \"g2002\", \"p2000\", \"p2002\", \"p2004\"]\n",
    "# for column in binary_variables_names:\n",
    "#     if column == 'sex':\n",
    "#         df[column] = np.where(df[column] == ' male',1,0)\n",
    "#     else:\n",
    "#         df[column] = df[column].str.lower()\n",
    "#         df[column] = np.where(df[column] == ' yes',1,0)\n",
    "scaled_cts_covariates = StandardScaler().fit_transform(df[cts_variables_names])\n",
    "binary_covariates = df[binary_variables_names]\n",
    "d = pd.DataFrame(np.concatenate((scaled_cts_covariates, binary_covariates), axis=1), \n",
    "                        columns=cts_variables_names+binary_variables_names, index=df.index)\n",
    "d[\"W\"] = df[\"treatment\"]\n",
    "d[\"Y\"] = df[\"voted\"]"
   ]
  },
  {
   "cell_type": "code",
   "execution_count": 7,
   "metadata": {},
   "outputs": [],
   "source": [
    "# we need to change Y from binary to numeric, where numeric is the probability of being 1\n",
    "# so eg: for i with w = 0, we will have prob(yi = 1 | xi) as y0, prob(yi = 1 | xi) + r(x) as y1\n",
    "\n",
    "def T_learner(d):\n",
    "    # w == 0\n",
    "    d0 = d[d['W'] == 0]\n",
    "    X_d0 = d0.drop(columns=['W','Y'])\n",
    "    y_d0 = d0['Y']\n",
    "    clf_d0 = RandomForestClassifier()\n",
    "    clf_d0.fit(X_d0,y_d0)\n",
    "\n",
    "    # w == 1\n",
    "    d1 = d[d['W'] == 1]\n",
    "    X_d1 = d1.drop(columns=['W','Y'])\n",
    "    y_d1 = d1['Y']\n",
    "    clf_d1 = RandomForestClassifier()\n",
    "    clf_d1.fit(X_d1,y_d1)\n",
    "\n",
    "    pred_y0 = clf_d0.predict_proba(d.drop(columns= ['W','Y']))[:,1]\n",
    "    pred_y1 = clf_d1.predict_proba(d.drop(columns= ['W','Y']))[:,1]\n",
    "    \n",
    "    ate_score = (sum(pred_y1) - sum(pred_y0)) / len(pred_y0)\n",
    "    return ate_score, clf_d0, clf_d1"
   ]
  },
  {
   "cell_type": "code",
   "execution_count": 12,
   "metadata": {},
   "outputs": [],
   "source": [
    "rx, clf_d0, clf_d1 = T_learner(d)\n",
    "pred_y0 = clf_d0.predict_proba(d.drop(columns= ['W','Y']))[:,1]\n",
    "pred_y1 = clf_d1.predict_proba(d.drop(columns= ['W','Y']))[:,1]"
   ]
  },
  {
   "cell_type": "code",
   "execution_count": 15,
   "metadata": {},
   "outputs": [],
   "source": [
    "# replace binary labels by probs \n",
    "new_y0 = []\n",
    "new_y1 = []\n",
    "Y = []\n",
    "for i in range(len(d)):\n",
    "    if d.iloc[i].W == 0.0:\n",
    "        Y.append(pred_y0[i])\n",
    "        new_y0.append(pred_y0[i])\n",
    "        new_y1.append(pred_y0[i] + rx)\n",
    "    else:\n",
    "        Y.append(pred_y1[i])\n",
    "        new_y0.append(pred_y1[i] - rx)\n",
    "        new_y1.append(pred_y1[i])\n",
    "\n",
    "d['new_y0'] = new_y0\n",
    "d['new_y1'] = new_y1\n",
    "d['Y'] = Y"
   ]
  },
  {
   "cell_type": "code",
   "execution_count": null,
   "metadata": {},
   "outputs": [],
   "source": [
    "d"
   ]
  },
  {
   "cell_type": "code",
   "execution_count": 21,
   "metadata": {},
   "outputs": [],
   "source": [
    "def get_samples(data, control_treat_prop, n_training_set = 50000, n_testing_set = 2000):\n",
    "    \n",
    "    # randomly select 50000 training set and 2000 testing set\n",
    "    # among them, we need to make w = 1 and w = 0 according to proportion, this is the permutation we have\n",
    "    idx = list(np.arange(len(data)))\n",
    "    random_idx = random.sample(idx, n_training_set + n_testing_set)\n",
    "    # frist 50000 are training, last 2000 are testing\n",
    "    train_sample = random_idx[:n_training_set]\n",
    "    test_sample = random_idx[n_training_set:]\n",
    "    train_df = data.iloc[train_sample].copy()\n",
    "    test_df = data.iloc[test_sample].copy()\n",
    "    \n",
    "    # assgin w = 1 according to proprtion\n",
    "    w_train = np.zeros(len(train_sample))\n",
    "    w_train[int(len(train_sample) * control_treat_prop) :] = 1 \n",
    "    w_test = np.zeros(len(test_sample))\n",
    "    w_test[int(len(test_sample) * control_treat_prop) :] = 1 \n",
    "    \n",
    "    # choose new Y\n",
    "    y_train = []\n",
    "    y_test = []\n",
    "    for i in range(len(w_train)):\n",
    "        if w_train[i] == 0:\n",
    "            y_train.append(train_df.iloc[i].new_y0)\n",
    "        else:\n",
    "            y_train.append(train_df.iloc[i].new_y1)\n",
    "    for i in range(len(w_test)):\n",
    "        if w_test[i] == 0:\n",
    "            y_test.append(test_df.iloc[i].new_y0)\n",
    "        else:\n",
    "            y_test.append(test_df.iloc[i].new_y1)\n",
    "    # add new W,Y to both dfs respectively\n",
    "    train_df = train_df.drop(columns = ['W','Y','new_y0','new_y1'])\n",
    "    test_df = test_df.drop(columns = ['W','Y','new_y0','new_y1'])\n",
    "    train_df['W'] = w_train\n",
    "    train_df['Y'] = y_train\n",
    "    test_df['W'] = w_test\n",
    "    test_df['Y'] = y_test\n",
    "    \n",
    "    return train_df, test_df\n"
   ]
  },
  {
   "cell_type": "code",
   "execution_count": null,
   "metadata": {},
   "outputs": [],
   "source": [
    "s_df, t_df, x_df = boostrap_exp(d, len(d[d['W'] == 1])/len(d[d['W'] == 0]), rx )"
   ]
  },
  {
   "cell_type": "code",
   "execution_count": 36,
   "metadata": {},
   "outputs": [],
   "source": [
    "s_df['estimator'] = ['S_learner']\n",
    "x_df['estimator'] = ['X_learner']"
   ]
  },
  {
   "cell_type": "code",
   "execution_count": 129,
   "metadata": {},
   "outputs": [],
   "source": [
    "def get_bootstrap_coverage_CIlength(all_estimates,real_ate, learner_name,  alpha=0.05):\n",
    "    '''\n",
    "    params: all_estiamtes: np.matrix, size = (n_models, n_testset)\n",
    "    real_ate: real ate\n",
    "    learner_name: meta-learner name \n",
    "    '''\n",
    "\n",
    "    est_stat = []\n",
    "    signif_level = -norm.ppf(alpha/2)\n",
    "    ci_lengths = []\n",
    "    if_covers = 0\n",
    "    print(learner_name)\n",
    "    for col in range(all_estimates.shape[1]):\n",
    "        point_ites = all_estimates[:,col]\n",
    "        std = np.std(point_ites)\n",
    "        mean_ite = np.mean(point_ites)\n",
    "        ci_lengths += [2 * (signif_level * std)]\n",
    "        if real_ate < (signif_level * std) + mean_ite and real_ate >   mean_ite - (signif_level * std):\n",
    "            print(real_ate)\n",
    "            print((signif_level * std) + mean_ite)\n",
    "            print(mean_ite - (signif_level * std))\n",
    "            if_covers += 1\n",
    "    stat = {}\n",
    "    stat['estimator'] = learner_name\n",
    "    stat['coverage'] = if_covers / all_estimates.shape[1]\n",
    "    stat['average_interval_length'] = np.mean(ci_lengths)\n",
    "    \n",
    "    return pd.DataFrame([stat])"
   ]
  },
  {
   "cell_type": "code",
   "execution_count": 134,
   "metadata": {},
   "outputs": [],
   "source": [
    "def boostrap_exp_test_point(data,control_treat_prop,full_ate,  n_training_set = 50000, n_testing_set = 2000):\n",
    "        Slearner_bool_ates = []\n",
    "        Xlearner_bool_ates = []\n",
    "        Tlearner_bool_ates = []\n",
    "        full_estimate_ate = full_ate\n",
    "        # only get one test_df\n",
    "        print('1111')\n",
    "        _, test_df = get_samples(data,control_treat_prop)\n",
    "        for time in range(2):\n",
    "            print(time, ' Finished')\n",
    "            t_learner = Tlearner(RandomForestRegressor(),RandomForestRegressor(),is_regressor= True)\n",
    "            s_learner = Slearner(RandomForestRegressor(), is_regressor= True)\n",
    "            x_learner = Xlearner(RandomForestRegressor(), propensity_model = LogisticRegression(), is_regressor= True)\n",
    "            train_df, _ = get_samples(data,control_treat_prop)\n",
    "            # train T S X learner \n",
    "            t_learner.fit(train_df.drop(columns = ['W','Y']), train_df['W'], train_df['Y'])\n",
    "            s_learner.fit(train_df.drop(columns = ['W','Y']), train_df['W'], train_df['Y'])\n",
    "            x_learner.fit(train_df.drop(columns = ['W','Y']), train_df['W'], train_df['Y'])\n",
    "            # calculate the ites for all test points \n",
    "            s_ite, _, _, _ = s_learner.get_ite(test_df.drop(columns = ['W','Y']), test_df['W'], test_df['Y'])\n",
    "            x_ite, _, _, _ = x_learner.get_ite(test_df.drop(columns = ['W','Y']), test_df['W'], test_df['Y'])\n",
    "            t_ite, _, _, _ = t_learner.get_ite(test_df.drop(columns = ['W','Y']), test_df['W'], test_df['Y'])\n",
    "            Slearner_bool_ates.append(s_ite)\n",
    "            Xlearner_bool_ates.append(x_ite)\n",
    "            Tlearner_bool_ates.append(t_ite)\n",
    "            \n",
    "        s_result = get_bootstrap_coverage_CIlength(np.array(Slearner_bool_ates), full_estimate_ate,'Slearner',  alpha=0.05)\n",
    "        t_result = get_bootstrap_coverage_CIlength(np.array(Tlearner_bool_ates), full_estimate_ate,'Tlearner',  alpha=0.05)\n",
    "        x_result = get_bootstrap_coverage_CIlength(np.array(Xlearner_bool_ates), full_estimate_ate,'Xlearner',  alpha=0.05)\n",
    "        \n",
    "        return s_result, t_result, x_result\n",
    "            \n"
   ]
  },
  {
   "cell_type": "code",
   "execution_count": null,
   "metadata": {},
   "outputs": [],
   "source": [
    "s_result, t_result, x_result = boostrap_exp_test_point(d, len(d[d['W'] == 1])/len(d[d['W'] == 0]), rx )"
   ]
  },
  {
   "cell_type": "code",
   "execution_count": 132,
   "metadata": {},
   "outputs": [],
   "source": [
    "all_result = pd.concat([s_result,t_result,x_result])"
   ]
  },
  {
   "cell_type": "code",
   "execution_count": 133,
   "metadata": {},
   "outputs": [
    {
     "data": {
      "text/html": [
       "<div>\n",
       "<style scoped>\n",
       "    .dataframe tbody tr th:only-of-type {\n",
       "        vertical-align: middle;\n",
       "    }\n",
       "\n",
       "    .dataframe tbody tr th {\n",
       "        vertical-align: top;\n",
       "    }\n",
       "\n",
       "    .dataframe thead th {\n",
       "        text-align: right;\n",
       "    }\n",
       "</style>\n",
       "<table border=\"1\" class=\"dataframe\">\n",
       "  <thead>\n",
       "    <tr style=\"text-align: right;\">\n",
       "      <th></th>\n",
       "      <th>estimator</th>\n",
       "      <th>coverage</th>\n",
       "      <th>average_interval_length</th>\n",
       "    </tr>\n",
       "  </thead>\n",
       "  <tbody>\n",
       "    <tr>\n",
       "      <th>0</th>\n",
       "      <td>Slearner</td>\n",
       "      <td>0.0</td>\n",
       "      <td>0.0</td>\n",
       "    </tr>\n",
       "    <tr>\n",
       "      <th>0</th>\n",
       "      <td>Tlearner</td>\n",
       "      <td>0.0</td>\n",
       "      <td>0.0</td>\n",
       "    </tr>\n",
       "    <tr>\n",
       "      <th>0</th>\n",
       "      <td>Xlearner</td>\n",
       "      <td>0.0</td>\n",
       "      <td>0.0</td>\n",
       "    </tr>\n",
       "  </tbody>\n",
       "</table>\n",
       "</div>"
      ],
      "text/plain": [
       "  estimator  coverage  average_interval_length\n",
       "0  Slearner       0.0                      0.0\n",
       "0  Tlearner       0.0                      0.0\n",
       "0  Xlearner       0.0                      0.0"
      ]
     },
     "execution_count": 133,
     "metadata": {},
     "output_type": "execute_result"
    }
   ],
   "source": [
    "all_result"
   ]
  },
  {
   "cell_type": "code",
   "execution_count": 122,
   "metadata": {},
   "outputs": [
    {
     "data": {
      "text/html": [
       "<div>\n",
       "<style scoped>\n",
       "    .dataframe tbody tr th:only-of-type {\n",
       "        vertical-align: middle;\n",
       "    }\n",
       "\n",
       "    .dataframe tbody tr th {\n",
       "        vertical-align: top;\n",
       "    }\n",
       "\n",
       "    .dataframe thead th {\n",
       "        text-align: right;\n",
       "    }\n",
       "</style>\n",
       "<table border=\"1\" class=\"dataframe\">\n",
       "  <thead>\n",
       "    <tr style=\"text-align: right;\">\n",
       "      <th></th>\n",
       "      <th>estimator</th>\n",
       "      <th>coverage</th>\n",
       "      <th>average_interval_length</th>\n",
       "    </tr>\n",
       "  </thead>\n",
       "  <tbody>\n",
       "    <tr>\n",
       "      <th>0</th>\n",
       "      <td>Slearner</td>\n",
       "      <td>1.0</td>\n",
       "      <td>0.461823</td>\n",
       "    </tr>\n",
       "    <tr>\n",
       "      <th>0</th>\n",
       "      <td>Tlearner</td>\n",
       "      <td>1.0</td>\n",
       "      <td>0.554007</td>\n",
       "    </tr>\n",
       "    <tr>\n",
       "      <th>0</th>\n",
       "      <td>Xlearner</td>\n",
       "      <td>1.0</td>\n",
       "      <td>0.292478</td>\n",
       "    </tr>\n",
       "  </tbody>\n",
       "</table>\n",
       "</div>"
      ],
      "text/plain": [
       "  estimator  coverage  average_interval_length\n",
       "0  Slearner       1.0                 0.461823\n",
       "0  Tlearner       1.0                 0.554007\n",
       "0  Xlearner       1.0                 0.292478"
      ]
     },
     "execution_count": 122,
     "metadata": {},
     "output_type": "execute_result"
    }
   ],
   "source": [
    "all_result"
   ]
  },
  {
   "cell_type": "code",
   "execution_count": 123,
   "metadata": {},
   "outputs": [],
   "source": [
    "coverage = all_result['coverage']\n",
    "average_interval_length = all_result['average_interval_length']\n",
    "names = all_result['estimator']"
   ]
  },
  {
   "cell_type": "code",
   "execution_count": 124,
   "metadata": {},
   "outputs": [
    {
     "data": {
      "text/plain": [
       "0    0.461823\n",
       "0    0.554007\n",
       "0    0.292478\n",
       "Name: average_interval_length, dtype: float64"
      ]
     },
     "execution_count": 124,
     "metadata": {},
     "output_type": "execute_result"
    }
   ],
   "source": [
    "average_interval_length"
   ]
  },
  {
   "cell_type": "code",
   "execution_count": 125,
   "metadata": {},
   "outputs": [
    {
     "data": {
      "image/png": "[encoded data removed]",
      "text/plain": [
       "<Figure size 640x480 with 1 Axes>"
      ]
     },
     "metadata": {
      "needs_background": "light"
     },
     "output_type": "display_data"
    }
   ],
   "source": [
    "%matplotlib inline\n",
    "from matplotlib.pyplot import figure\n",
    "figure(figsize=(8, 6), dpi=80)\n",
    "\n",
    "\n",
    "plt.scatter(average_interval_length,coverage)\n",
    "plt.xlim(0.2,0.7)\n",
    "plt.ylim(0.5,1.1)\n",
    "plt.axhline(y=0.95, color='r', linestyle='-')\n",
    "\n",
    "plt.xlabel(\"Average CI length\")\n",
    "plt.ylabel(\"Coverage\")\n",
    "plt.title(\"CI-Simulation 100 Models\",fontsize=15)\n",
    "annotations = all_result['estimator']\n",
    "for i, label in enumerate(annotations):\n",
    "    plt.annotate(label, (average_interval_length.iloc[i], coverage.iloc[i]))\n"
   ]
  },
  {
   "cell_type": "code",
   "execution_count": 115,
   "metadata": {},
   "outputs": [
    {
     "data": {
      "image/png": "[encoded data removed]",
      "text/plain": [
       "<Figure size 640x480 with 1 Axes>"
      ]
     },
     "metadata": {
      "needs_background": "light"
     },
     "output_type": "display_data"
    }
   ],
   "source": [
    "%matplotlib inline\n",
    "from matplotlib.pyplot import figure\n",
    "figure(figsize=(8, 6), dpi=80)\n",
    "\n",
    "\n",
    "plt.scatter(average_interval_length,coverage)\n",
    "plt.xlim(0.2,0.7)\n",
    "plt.ylim(0.5,1.1)\n",
    "plt.axhline(y=0.95, color='r', linestyle='-')\n",
    "\n",
    "plt.xlabel(\"Average CI length\")\n",
    "plt.ylabel(\"Coverage\")\n",
    "plt.title(\"CI-Simulation 10 Models\",fontsize=15)\n",
    "annotations = all_result['estimator']\n",
    "for i, label in enumerate(annotations):\n",
    "    plt.annotate(label, (average_interval_length.iloc[i], coverage.iloc[i]))\n"
   ]
  },
  {
   "cell_type": "code",
   "execution_count": null,
   "metadata": {},
   "outputs": [],
   "source": []
  }
 ],
 "metadata": {
  "kernelspec": {
   "display_name": "Python 3",
   "language": "python",
   "name": "python3"
  },
  "language_info": {
   "codemirror_mode": {
    "name": "ipython",
    "version": 3
   },
   "file_extension": ".py",
   "mimetype": "text/x-python",
   "name": "python",
   "nbconvert_exporter": "python",
   "pygments_lexer": "ipython3",
   "version": "3.8.3"
  }
 },
 "nbformat": 4,
 "nbformat_minor": 4
}
